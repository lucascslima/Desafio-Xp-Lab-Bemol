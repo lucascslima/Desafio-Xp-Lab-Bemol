{
  "nbformat": 4,
  "nbformat_minor": 0,
  "metadata": {
    "colab": {
      "name": "Desafio.ipynb",
      "provenance": [],
      "collapsed_sections": [],
      "toc_visible": true
    },
    "kernelspec": {
      "name": "python3",
      "display_name": "Python 3"
    }
  },
  "cells": [
    {
      "cell_type": "code",
      "metadata": {
        "id": "2pVyrd5cEER1",
        "colab_type": "code",
        "colab": {}
      },
      "source": [
        "import pandas as pd"
      ],
      "execution_count": 0,
      "outputs": []
    },
    {
      "cell_type": "markdown",
      "metadata": {
        "id": "Te8UtMfsbkIF",
        "colab_type": "text"
      },
      "source": [
        "# Leitura de arquivos"
      ]
    },
    {
      "cell_type": "code",
      "metadata": {
        "id": "5vBHEIekH_t5",
        "colab_type": "code",
        "colab": {}
      },
      "source": [
        "# Dataframe das vendas\n",
        "df_vendas = pd.read_csv('vendas.csv', sep = '|', skiprows = 0, encoding='utf-8')"
      ],
      "execution_count": 0,
      "outputs": []
    },
    {
      "cell_type": "code",
      "metadata": {
        "id": "iw249xqMROp-",
        "colab_type": "code",
        "colab": {}
      },
      "source": [
        "# Vendas total AM\n",
        "df_detalhamentoAM = pd.read_excel('detalhamento.xlsx', sheet_name='AM',skiprows=1)\n",
        "\n",
        "# Vendas total RR\n",
        "df_detalhamentoRR = pd.read_excel('detalhamento.xlsx', sheet_name='RR',skiprows=1)\n",
        "\n",
        "# Vendas total RO\n",
        "df_detalhamentoRO = pd.read_excel('detalhamento.xlsx', sheet_name='RO',skiprows=1)\n",
        "\n",
        "# Vendas total AC\n",
        "df_detalhamentoAC = pd.read_excel('detalhamento.xlsx', sheet_name='AC',skiprows=1)"
      ],
      "execution_count": 0,
      "outputs": []
    },
    {
      "cell_type": "markdown",
      "metadata": {
        "id": "NjRGKzKQb6Wl",
        "colab_type": "text"
      },
      "source": [
        "# Tratamento de dados"
      ]
    },
    {
      "cell_type": "markdown",
      "metadata": {
        "id": "8WWcVVREb-mM",
        "colab_type": "text"
      },
      "source": [
        "## Renomear colunas"
      ]
    },
    {
      "cell_type": "code",
      "metadata": {
        "id": "K4rv1VYOWFWe",
        "colab_type": "code",
        "colab": {}
      },
      "source": [
        "df_detalhamentoAM.columns = ['nome_fantasia', 'escritorio', 'uf', 'operadora', 'valor_bruto']\n",
        "\n",
        "df_detalhamentoRR.columns = ['nome_fantasia', 'escritorio', 'uf', 'operadora', 'valor_bruto']\n",
        "\n",
        "df_detalhamentoRO.columns = ['nome_fantasia', 'escritorio', 'uf', 'operadora', 'valor_bruto']\n",
        "\n",
        "df_detalhamentoAC.columns = ['nome_fantasia', 'escritorio', 'uf', 'operadora', 'valor_bruto']"
      ],
      "execution_count": 0,
      "outputs": []
    },
    {
      "cell_type": "code",
      "metadata": {
        "id": "cmNP9gQrWsKJ",
        "colab_type": "code",
        "colab": {}
      },
      "source": [
        "#Concatenando tabelas de detalhamento\n",
        "\n",
        "df_detalhamento = pd.concat([df_detalhamentoAM, df_detalhamentoRR, df_detalhamentoRO, df_detalhamentoAC])"
      ],
      "execution_count": 0,
      "outputs": []
    },
    {
      "cell_type": "code",
      "metadata": {
        "id": "dmGS8BRxaicx",
        "colab_type": "code",
        "colab": {}
      },
      "source": [
        "df_vendas.columns = ['escritorio', 'operadora', 'material', 'data', 'banco_dados']"
      ],
      "execution_count": 0,
      "outputs": []
    },
    {
      "cell_type": "markdown",
      "metadata": {
        "id": "qBhd82C4cq7K",
        "colab_type": "text"
      },
      "source": [
        "## Verificar tipos"
      ]
    },
    {
      "cell_type": "code",
      "metadata": {
        "id": "PkDKs21ncyrC",
        "colab_type": "code",
        "outputId": "508e9cbe-8934-4d56-cbae-ac69eabe907a",
        "colab": {
          "base_uri": "https://localhost:8080/",
          "height": 119
        }
      },
      "source": [
        "df_detalhamento.dtypes"
      ],
      "execution_count": 7,
      "outputs": [
        {
          "output_type": "execute_result",
          "data": {
            "text/plain": [
              "nome_fantasia    object\n",
              "escritorio        int64\n",
              "uf               object\n",
              "operadora        object\n",
              "valor_bruto       int64\n",
              "dtype: object"
            ]
          },
          "metadata": {
            "tags": []
          },
          "execution_count": 7
        }
      ]
    },
    {
      "cell_type": "code",
      "metadata": {
        "id": "_XLNWATadCPi",
        "colab_type": "code",
        "outputId": "1a57bd65-1c69-40e8-f61a-a701bfd6a605",
        "colab": {
          "base_uri": "https://localhost:8080/",
          "height": 119
        }
      },
      "source": [
        "df_vendas.dtypes"
      ],
      "execution_count": 8,
      "outputs": [
        {
          "output_type": "execute_result",
          "data": {
            "text/plain": [
              "escritorio       int64\n",
              "operadora       object\n",
              "material        object\n",
              "data            object\n",
              "vendas_loja    float64\n",
              "dtype: object"
            ]
          },
          "metadata": {
            "tags": []
          },
          "execution_count": 8
        }
      ]
    },
    {
      "cell_type": "markdown",
      "metadata": {
        "id": "vA3NtbjCd8Qv",
        "colab_type": "text"
      },
      "source": [
        "## Deletar dados"
      ]
    },
    {
      "cell_type": "code",
      "metadata": {
        "id": "5MLkFgYTeA9h",
        "colab_type": "code",
        "colab": {}
      },
      "source": [
        "df_vendas = df_vendas[['escritorio', 'operadora', 'banco_dados']].copy()"
      ],
      "execution_count": 0,
      "outputs": []
    },
    {
      "cell_type": "code",
      "metadata": {
        "id": "lncFI5peeH1v",
        "colab_type": "code",
        "colab": {}
      },
      "source": [
        "df_detalhamento = df_detalhamento[['escritorio', 'operadora', 'valor_bruto']]"
      ],
      "execution_count": 0,
      "outputs": []
    },
    {
      "cell_type": "markdown",
      "metadata": {
        "id": "HwCjIAsXiTkF",
        "colab_type": "text"
      },
      "source": [
        "## Resetando o index"
      ]
    },
    {
      "cell_type": "code",
      "metadata": {
        "id": "dwHURnSJXFdQ",
        "colab_type": "code",
        "colab": {}
      },
      "source": [
        "#Eliminando o index\n",
        "\n",
        "df_detalhamento = df_detalhamento.reset_index(drop=True)"
      ],
      "execution_count": 0,
      "outputs": []
    },
    {
      "cell_type": "markdown",
      "metadata": {
        "id": "noyv1hOhl3n7",
        "colab_type": "text"
      },
      "source": [
        "## Agrupando dados"
      ]
    },
    {
      "cell_type": "code",
      "metadata": {
        "id": "FmCrbO5Wlgkd",
        "colab_type": "code",
        "colab": {}
      },
      "source": [
        "df_vendas = df_vendas.groupby(['escritorio', 'operadora']).agg({'banco_dados':'sum'}).reset_index(drop=False)"
      ],
      "execution_count": 0,
      "outputs": []
    },
    {
      "cell_type": "markdown",
      "metadata": {
        "id": "mgSZBbO8p-2D",
        "colab_type": "text"
      },
      "source": [
        "# Correlação de tabelas"
      ]
    },
    {
      "cell_type": "code",
      "metadata": {
        "id": "qwSStV6EhyvE",
        "colab_type": "code",
        "colab": {}
      },
      "source": [
        "df_relatorio = pd.merge(df_vendas, df_detalhamento, on = ['escritorio', 'operadora'], how = 'left')"
      ],
      "execution_count": 0,
      "outputs": []
    },
    {
      "cell_type": "markdown",
      "metadata": {
        "id": "y6sYimJZrvf-",
        "colab_type": "text"
      },
      "source": [
        "# Regra de negócio"
      ]
    },
    {
      "cell_type": "code",
      "metadata": {
        "id": "DoVx_2MhrzRG",
        "colab_type": "code",
        "colab": {}
      },
      "source": [
        "def valor_diferentes(banco_dados, valor_bruto):\n",
        "  if banco_dados != valor_bruto:\n",
        "    return 'alerta'\n",
        "  else:\n",
        "    return ''"
      ],
      "execution_count": 0,
      "outputs": []
    },
    {
      "cell_type": "code",
      "metadata": {
        "id": "Z-4ZCXZOauVW",
        "colab_type": "code",
        "colab": {}
      },
      "source": [
        "df_relatorio['divergente']= df_relatorio.apply(lambda row: valor_diferentes(row['banco_dados'], row['valor_bruto']), axis = 'columns')"
      ],
      "execution_count": 0,
      "outputs": []
    },
    {
      "cell_type": "markdown",
      "metadata": {
        "id": "sbGZVtayEgte",
        "colab_type": "text"
      },
      "source": [
        "## Ordenando colunas"
      ]
    },
    {
      "cell_type": "code",
      "metadata": {
        "id": "W1vjjpGtEiu5",
        "colab_type": "code",
        "colab": {}
      },
      "source": [
        "df_relatorio = df_relatorio.sort_values(['escritorio'], ascending = [True])"
      ],
      "execution_count": 0,
      "outputs": []
    },
    {
      "cell_type": "markdown",
      "metadata": {
        "id": "IhtBArf_FXJa",
        "colab_type": "text"
      },
      "source": [
        "# Exportando formato .XLSX"
      ]
    },
    {
      "cell_type": "code",
      "metadata": {
        "id": "0RqMlu9wFWCR",
        "colab_type": "code",
        "colab": {}
      },
      "source": [
        "writer = pd.ExcelWriter('Relatorio Final (Desafio).xlsx')\n",
        "\n",
        "df_relatorio.to_excel(writer, sheet_name = 'comparação', index = False)\n",
        "writer.save()"
      ],
      "execution_count": 0,
      "outputs": []
    },
    {
      "cell_type": "code",
      "metadata": {
        "id": "zpqyX4VJB1LC",
        "colab_type": "code",
        "colab": {
          "base_uri": "https://localhost:8080/",
          "height": 419
        },
        "outputId": "69485495-2fb5-4a69-cf99-14d9e5929e0c"
      },
      "source": [
        "df_relatorio"
      ],
      "execution_count": 43,
      "outputs": [
        {
          "output_type": "execute_result",
          "data": {
            "text/html": [
              "<div>\n",
              "<style scoped>\n",
              "    .dataframe tbody tr th:only-of-type {\n",
              "        vertical-align: middle;\n",
              "    }\n",
              "\n",
              "    .dataframe tbody tr th {\n",
              "        vertical-align: top;\n",
              "    }\n",
              "\n",
              "    .dataframe thead th {\n",
              "        text-align: right;\n",
              "    }\n",
              "</style>\n",
              "<table border=\"1\" class=\"dataframe\">\n",
              "  <thead>\n",
              "    <tr style=\"text-align: right;\">\n",
              "      <th></th>\n",
              "      <th>escritorio</th>\n",
              "      <th>operadora</th>\n",
              "      <th>banco_dados</th>\n",
              "      <th>valor_bruto</th>\n",
              "      <th>divergente</th>\n",
              "    </tr>\n",
              "  </thead>\n",
              "  <tbody>\n",
              "    <tr>\n",
              "      <th>0</th>\n",
              "      <td>101</td>\n",
              "      <td>Claro</td>\n",
              "      <td>1527.0</td>\n",
              "      <td>1527.0</td>\n",
              "      <td></td>\n",
              "    </tr>\n",
              "    <tr>\n",
              "      <th>1</th>\n",
              "      <td>101</td>\n",
              "      <td>Oi</td>\n",
              "      <td>1730.0</td>\n",
              "      <td>1730.0</td>\n",
              "      <td></td>\n",
              "    </tr>\n",
              "    <tr>\n",
              "      <th>2</th>\n",
              "      <td>101</td>\n",
              "      <td>Tim</td>\n",
              "      <td>975.0</td>\n",
              "      <td>975.0</td>\n",
              "      <td></td>\n",
              "    </tr>\n",
              "    <tr>\n",
              "      <th>3</th>\n",
              "      <td>101</td>\n",
              "      <td>Vivo</td>\n",
              "      <td>3142.0</td>\n",
              "      <td>3142.0</td>\n",
              "      <td></td>\n",
              "    </tr>\n",
              "    <tr>\n",
              "      <th>4</th>\n",
              "      <td>103</td>\n",
              "      <td>Claro</td>\n",
              "      <td>2652.3</td>\n",
              "      <td>2651.0</td>\n",
              "      <td>alerta</td>\n",
              "    </tr>\n",
              "    <tr>\n",
              "      <th>...</th>\n",
              "      <td>...</td>\n",
              "      <td>...</td>\n",
              "      <td>...</td>\n",
              "      <td>...</td>\n",
              "      <td>...</td>\n",
              "    </tr>\n",
              "    <tr>\n",
              "      <th>158</th>\n",
              "      <td>618</td>\n",
              "      <td>Vivo</td>\n",
              "      <td>561.0</td>\n",
              "      <td>380.0</td>\n",
              "      <td>alerta</td>\n",
              "    </tr>\n",
              "    <tr>\n",
              "      <th>159</th>\n",
              "      <td>701</td>\n",
              "      <td>Claro</td>\n",
              "      <td>140.0</td>\n",
              "      <td>140.0</td>\n",
              "      <td></td>\n",
              "    </tr>\n",
              "    <tr>\n",
              "      <th>160</th>\n",
              "      <td>701</td>\n",
              "      <td>Oi</td>\n",
              "      <td>20.0</td>\n",
              "      <td>20.0</td>\n",
              "      <td></td>\n",
              "    </tr>\n",
              "    <tr>\n",
              "      <th>161</th>\n",
              "      <td>701</td>\n",
              "      <td>Tim</td>\n",
              "      <td>135.0</td>\n",
              "      <td>135.0</td>\n",
              "      <td></td>\n",
              "    </tr>\n",
              "    <tr>\n",
              "      <th>162</th>\n",
              "      <td>701</td>\n",
              "      <td>Vivo</td>\n",
              "      <td>304.0</td>\n",
              "      <td>304.0</td>\n",
              "      <td></td>\n",
              "    </tr>\n",
              "  </tbody>\n",
              "</table>\n",
              "<p>163 rows × 5 columns</p>\n",
              "</div>"
            ],
            "text/plain": [
              "     escritorio operadora  banco_dados  valor_bruto divergente\n",
              "0           101     Claro       1527.0       1527.0           \n",
              "1           101        Oi       1730.0       1730.0           \n",
              "2           101       Tim        975.0        975.0           \n",
              "3           101      Vivo       3142.0       3142.0           \n",
              "4           103     Claro       2652.3       2651.0     alerta\n",
              "..          ...       ...          ...          ...        ...\n",
              "158         618      Vivo        561.0        380.0     alerta\n",
              "159         701     Claro        140.0        140.0           \n",
              "160         701        Oi         20.0         20.0           \n",
              "161         701       Tim        135.0        135.0           \n",
              "162         701      Vivo        304.0        304.0           \n",
              "\n",
              "[163 rows x 5 columns]"
            ]
          },
          "metadata": {
            "tags": []
          },
          "execution_count": 43
        }
      ]
    }
  ]
}